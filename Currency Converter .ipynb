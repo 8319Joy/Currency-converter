{
 "cells": [
  {
   "cell_type": "markdown",
   "id": "a0924c0e",
   "metadata": {
    "slideshow": {
     "slide_type": "slide"
    }
   },
   "source": [
    "# Currency Converter:"
   ]
  },
  {
   "cell_type": "code",
   "execution_count": 6,
   "id": "ba4248b0",
   "metadata": {
    "slideshow": {
     "slide_type": "slide"
    }
   },
   "outputs": [
    {
     "name": "stdout",
     "output_type": "stream",
     "text": [
      "Enter the amount: 100\n",
      "Enter the currency you want to convert from (USD, EUR, GBP, INR, JPY): GBP\n",
      "Enter the currency you want to convert to (USD, EUR, GBP, INR, JPY): USD\n",
      "100.0 GBP = 133.00 USD\n"
     ]
    }
   ],
   "source": [
    "# Currency Converter without API\n",
    "def currency_converter(amount, from_currency, to_currency):\n",
    "    # Define some conversion rates\n",
    "    conversion_rates = {\n",
    "        'USD': {'EUR': 0.85, 'GBP': 0.75, 'INR': 73.5, 'JPY': 110.5},\n",
    "        'EUR': {'USD': 1.18, 'GBP': 0.88, 'INR': 86.5, 'JPY': 130.5},\n",
    "        'GBP': {'USD': 1.33, 'EUR': 1.14, 'INR': 99.5, 'JPY': 150.5},\n",
    "        'INR': {'USD': 0.014, 'EUR': 0.012, 'GBP': 0.010, 'JPY': 1.52},\n",
    "        'JPY': {'USD': 0.0091, 'EUR': 0.0077, 'GBP': 0.0066, 'INR': 0.66}\n",
    "    }\n",
    "\n",
    "    # Check if both currencies exist in the conversion rates\n",
    "    if from_currency in conversion_rates and to_currency in conversion_rates[from_currency]:\n",
    "        converted_amount = amount * conversion_rates[from_currency][to_currency]\n",
    "        return f\"{amount} {from_currency} = {converted_amount:.2f} {to_currency}\"\n",
    "    else:\n",
    "        return \"Conversion not available for the selected currencies.\"\n",
    "\n",
    "# User input\n",
    "amount = float(input(\"Enter the amount: \"))\n",
    "from_currency = input(\"Enter the currency you want to convert from (USD, EUR, GBP, INR, JPY): \").upper()\n",
    "to_currency = input(\"Enter the currency you want to convert to (USD, EUR, GBP, INR, JPY): \").upper()\n",
    "\n",
    "# Convert and display the result\n",
    "result = currency_converter(amount, from_currency, to_currency)\n",
    "print(result)\n"
   ]
  },
  {
   "cell_type": "code",
   "execution_count": null,
   "id": "bcecc43d",
   "metadata": {},
   "outputs": [],
   "source": []
  }
 ],
 "metadata": {
  "celltoolbar": "Slideshow",
  "kernelspec": {
   "display_name": "Python 3 (ipykernel)",
   "language": "python",
   "name": "python3"
  },
  "language_info": {
   "codemirror_mode": {
    "name": "ipython",
    "version": 3
   },
   "file_extension": ".py",
   "mimetype": "text/x-python",
   "name": "python",
   "nbconvert_exporter": "python",
   "pygments_lexer": "ipython3",
   "version": "3.11.4"
  }
 },
 "nbformat": 4,
 "nbformat_minor": 5
}
